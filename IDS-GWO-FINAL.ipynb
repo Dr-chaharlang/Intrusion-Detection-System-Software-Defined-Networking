{
  "nbformat": 4,
  "nbformat_minor": 0,
  "metadata": {
    "colab": {
      "provenance": []
    },
    "kernelspec": {
      "name": "python3",
      "display_name": "Python 3"
    },
    "language_info": {
      "name": "python"
    }
  },
  "cells": [
    {
      "cell_type": "markdown",
      "source": [
        "Step 1: Data preprocessing\n"
      ],
      "metadata": {
        "id": "taP4ByK20oc1"
      }
    },
    {
      "cell_type": "code",
      "source": [
        "# Importing libraries\n",
        "import pandas as pd\n",
        "import numpy as np\n",
        "from sklearn.preprocessing import LabelEncoder, MinMaxScaler\n",
        "\n",
        "# Reading the KDD dataset from a csv file\n",
        "train_url = 'https://raw.githubusercontent.com/merteroglu/NSL-KDD-Network-Instrusion-Detection/master/NSL_KDD_Train.csv'\n",
        "test_url = 'https://raw.githubusercontent.com/merteroglu/NSL-KDD-Network-Instrusion-Detection/master/NSL_KDD_Test.csv'\n",
        "\n",
        "col_names = [\"duration\",\"protocol_type\",\"service\",\"flag\",\"src_bytes\",\n",
        "    \"dst_bytes\",\"land\",\"wrong_fragment\",\"urgent\",\"hot\",\"num_failed_logins\",\n",
        "    \"logged_in\",\"num_compromised\",\"root_shell\",\"su_attempted\",\"num_root\",\n",
        "    \"num_file_creations\",\"num_shells\",\"num_access_files\",\"num_outbound_cmds\",\n",
        "    \"is_host_login\",\"is_guest_login\",\"count\",\"srv_count\",\"serror_rate\",\n",
        "    \"srv_serror_rate\",\"rerror_rate\",\"srv_rerror_rate\",\"same_srv_rate\",\n",
        "    \"diff_srv_rate\",\"srv_diff_host_rate\",\"dst_host_count\",\"dst_host_srv_count\",\n",
        "    \"dst_host_same_srv_rate\",\"dst_host_diff_srv_rate\",\"dst_host_same_src_port_rate\",\n",
        "    \"dst_host_srv_diff_host_rate\",\"dst_host_serror_rate\",\"dst_host_srv_serror_rate\",\n",
        "    \"dst_host_rerror_rate\",\"dst_host_srv_rerror_rate\",\"label\"]\n",
        "\n",
        "df = pd.read_csv(train_url,header=None, names = col_names)\n",
        "df_test = pd.read_csv(test_url, header=None, names = col_names)\n",
        "\n",
        "# Converting categorical features into numeric values using LabelEncoder\n",
        "categorical_columns=['protocol_type', 'service', 'flag']\n",
        "encoder = LabelEncoder()\n",
        "for col in categorical_columns:\n",
        "  df[col] = encoder.fit_transform(df[col])\n",
        "  df_test[col] = encoder.fit_transform(df_test[col])\n",
        "\n",
        "# Normalizing numeric features using MinMaxScaler\n",
        "scaler = MinMaxScaler()\n",
        "df.iloc[:, :-1] = scaler.fit_transform(df.iloc[:, :-1])\n",
        "df_test.iloc[:, :-1] = scaler.transform(df_test.iloc[:, :-1])\n"
      ],
      "metadata": {
        "colab": {
          "base_uri": "https://localhost:8080/"
        },
        "id": "0U8H7MIJ0CUV",
        "outputId": "3589d4e8-4a81-4207-db59-fb11b762f561"
      },
      "execution_count": 1,
      "outputs": [
        {
          "output_type": "stream",
          "name": "stderr",
          "text": [
            "<ipython-input-1-bf223ce0e8c6>:33: DeprecationWarning: In a future version, `df.iloc[:, i] = newvals` will attempt to set the values inplace instead of always setting a new array. To retain the old behavior, use either `df[df.columns[i]] = newvals` or, if columns are non-unique, `df.isetitem(i, newvals)`\n",
            "  df.iloc[:, :-1] = scaler.fit_transform(df.iloc[:, :-1])\n",
            "<ipython-input-1-bf223ce0e8c6>:34: DeprecationWarning: In a future version, `df.iloc[:, i] = newvals` will attempt to set the values inplace instead of always setting a new array. To retain the old behavior, use either `df[df.columns[i]] = newvals` or, if columns are non-unique, `df.isetitem(i, newvals)`\n",
            "  df_test.iloc[:, :-1] = scaler.transform(df_test.iloc[:, :-1])\n"
          ]
        }
      ]
    },
    {
      "cell_type": "markdown",
      "source": [],
      "metadata": {
        "id": "KAIT_ZQsUsym"
      }
    },
    {
      "cell_type": "markdown",
      "source": [
        "Step 2: Deep neural network optimization using gray wolf algorithm\n"
      ],
      "metadata": {
        "id": "HLwd1aix099T"
      }
    },
    {
      "cell_type": "code",
      "source": [
        "# Importing libraries\n",
        "import numpy as np\n",
        "import pandas as pd\n",
        "import tensorflow as tf\n",
        "\n",
        "# Defining parameters\n",
        "n_features = 41 # Number of features\n",
        "n_wolves = 20 # Number of wolves\n",
        "lb = -1 # Lower bound of weights and biases\n",
        "ub = 1 # Upper bound of weights and biases\n",
        "max_iter = 50 # Maximum number of iterations\n",
        "\n",
        "# Defining deep neural network architecture\n",
        "n_input = n_features # Number of input nodes\n",
        "n_hidden_1 = 32 # Number of hidden nodes in layer 1\n",
        "n_hidden_2 = 16 # Number of hidden nodes in layer 2\n",
        "n_classes = 5 # Number of output nodes\n",
        "\n",
        "# Defining deep neural network model using TensorFlow\n",
        "def neural_network(x, weights, biases):\n",
        "    # Hidden layer 1 with relu activation function\n",
        "    layer_1 = tf.add(tf.matmul(x, weights['h1']), biases['b1'])\n",
        "    layer_1 = tf.nn.relu(layer_1)\n",
        "\n",
        "    # Hidden layer 2 with relu activation function\n",
        "    layer_2 = tf.add(tf.matmul(layer_1, weights['h2']), biases['b2'])\n",
        "    layer_2 = tf.nn.relu(layer_2)\n",
        "\n",
        "    # Output layer with softmax activation function\n",
        "    out_layer = tf.add(tf.matmul(layer_2, weights['out']), biases['out'])\n",
        "    out_layer = tf.nn.softmax(out_layer)\n",
        "\n",
        "    return out_layer\n",
        "\n",
        "# Defining objective function\n",
        "def objective_function(X, y, params):\n",
        "    # Reshaping parameters into weights and biases matrices\n",
        "    weights_biases_size_list=[n_input*n_hidden_1,n_hidden_1,n_hidden_1*n_hidden_2,n_hidden_2,n_hidden_2*n_classes,n_classes]\n",
        "\n",
        "    start=0;end=weights_biases_size_list[0]\n",
        "\n",
        "    weights={}\n",
        "\n",
        "    weights['h1']=tf.reshape(params[start:end],[n_input,n_hidden_1])\n",
        "\n",
        "    start=end;end=start+weights_biases_size_list[1]\n",
        "\n",
        "    biases={}\n",
        "\n",
        "    biases['b1']=tf.reshape(params[start:end],[n_hidden_1])\n",
        "\n",
        "    start=end;end=start+weights_biases_size_list[2]\n",
        "\n",
        "    weights['h2']=tf.reshape(params[start:end],[n_hidden_1,n_hidden_2])\n",
        "\n",
        "    start=end;end=start+weights_biases_size_list[3]\n",
        "\n",
        "    biases['b2']=tf.reshape(params[start:end],[n_hidden_2])\n",
        "\n",
        "    start=end;end=start+weights_biases_size_list[4]\n",
        "\n",
        "    weights['out']=tf.reshape(params[start:end],[n_hidden_2,n_classes])\n",
        "\n",
        "    start=end;end=start+weights_biases_size_list[5]\n",
        "\n",
        "    biases['out']=tf.reshape(params[start:end],[n_classes])\n",
        "\n",
        "    # Building the neural network model with the given weights and biases\n",
        "    model = neural_network(X, weights, biases)\n",
        "\n",
        "    # Calculating the cross entropy loss function\n",
        "    loss = tf.reduce_mean(tf.nn.softmax_cross_entropy_with_logits(logits=model, labels=y))\n",
        "\n",
        "    # Returning the negative value of the loss function as fitness value\n",
        "    return -loss.numpy()\n",
        "\n",
        "# Extracting features and labels from preprocessed dataset\n",
        "X = df.iloc[:, :-1].values\n",
        "y = df.iloc[:, -1].values\n",
        "\n",
        "# Encoding labels into integer values using LabelEncoder\n",
        "from sklearn.preprocessing import LabelEncoder\n",
        "le = LabelEncoder()\n",
        "y = le.fit_transform(y)\n",
        "\n",
        "# Converting labels into one-hot encoded vectors\n",
        "y = tf.one_hot(y, depth=n_classes)\n",
        "\n",
        "# Initializing population of wolves randomly\n",
        "wolves = np.random.uniform(low=lb, high=ub, size=(n_wolves, n_input*n_hidden_1+n_hidden_1+n_hidden_1*n_hidden_2+n_hidden_2+n_hidden_2*n_classes+n_classes))\n",
        "\n",
        "# Calculating fitness values for each wolf\n",
        "fitness = np.zeros(n_wolves)\n",
        "for i in range(n_wolves):\n",
        "    fitness[i] = objective_function(X, y, wolves[i])\n",
        "\n",
        "# Sorting wolves and fitness values based on fitness values\n",
        "indices = np.argsort(-fitness)\n",
        "wolves = wolves[indices]\n",
        "fitness = fitness[indices]\n",
        "\n",
        "# Selecting the best three wolves as alpha, beta and gamma\n",
        "alpha = wolves[0].copy()\n",
        "beta = wolves[1].copy()\n",
        "gamma = wolves[2].copy()\n",
        "alpha_score = fitness[0]\n",
        "beta_score = fitness[1]\n",
        "gamma_score = fitness[2]\n",
        "\n",
        "# Starting the optimization loop\n",
        "for iter in range(max_iter):\n",
        "    # Calculating a linearly decreasing coefficient from 2 to 0\n",
        "    a = 2 * (1 - iter / max_iter)\n",
        "\n",
        "    # Updating the position and fitness of each wolf\n",
        "    for i in range(n_wolves):\n",
        "        # Generating random vectors A and C for each of the best three wolves\n",
        "        A1 = a * (2 * np.random.random() - 1)\n",
        "        C1 = 2 * np.random.random()\n",
        "        A2 = a * (2 * np.random.random() - 1)\n",
        "        C2 = 2 * np.random.random()\n",
        "        A3 = a * (2 * np.random.random() - 1)\n",
        "        C3 = 2 * np.random.random()\n",
        "\n",
        "        # Calculating the position vectors for each of the best three wolves\n",
        "        X1 = alpha - A1 * abs(C1 * alpha - wolves[i])\n",
        "        X2 = beta - A2 * abs(C2 * beta - wolves[i])\n",
        "        X3 = gamma - A3 * abs(C3 * gamma - wolves[i])\n",
        "\n",
        "        # Calculating the new position vector by averaging the position vectors of the best three wolves\n",
        "        X_new = (X1 + X2 + X3) / 3\n",
        "\n",
        "        # Clipping the new position vector to the bounds\n",
        "        X_new = np.clip(X_new, lb, ub)\n",
        "\n",
        "        # Calculating the new fitness value\n",
        "        f_new = objective_function(X, y, X_new)\n",
        "\n",
        "        # Updating the wolf position and fitness with the new values if they are better\n",
        "        if f_new > fitness[i]:\n",
        "            wolves[i] = X_new.copy()\n",
        "            fitness[i] = f_new\n",
        "\n",
        "    # Sorting wolves and fitness values based on fitness values\n",
        "    indices = np.argsort(-fitness)\n",
        "    wolves = wolves[indices]\n",
        "    fitness = fitness[indices]\n",
        "\n",
        "    # Updating the best three wolves as alpha, beta and gamma\n",
        "    alpha = wolves[0].copy()\n",
        "    beta = wolves[1].copy()\n",
        "    gamma = wolves[2].copy()\n",
        "    alpha_score = fitness[0]\n",
        "    beta_score = fitness[1]\n",
        "    gamma_score = fitness[2]\n",
        "\n",
        "# Printing the final results\n",
        "print('The best set of weights and biases is:', alpha)\n",
        "print('The best loss value is:', -alpha_score)\n"
      ],
      "metadata": {
        "colab": {
          "base_uri": "https://localhost:8080/"
        },
        "id": "Flq2fBAaAAea",
        "outputId": "23e5bb4b-977a-400f-e723-7e6743561dc4"
      },
      "execution_count": 5,
      "outputs": [
        {
          "output_type": "stream",
          "name": "stdout",
          "text": [
            "The best set of weights and biases is: [1.         0.80269782 0.88599673 ... 0.20084065 0.05432466 0.80001381]\n",
            "The best loss value is: 0.00840904577301966\n"
          ]
        }
      ]
    },
    {
      "cell_type": "markdown",
      "source": [
        "Step 3: Feature selection using gray wolf algorithm\n",
        "\n",
        "\n",
        "> Indented block\n",
        "\n"
      ],
      "metadata": {
        "id": "UBSCqda10lv2"
      }
    },
    {
      "cell_type": "code",
      "source": [],
      "metadata": {
        "id": "BKriHhSagGDL"
      },
      "execution_count": null,
      "outputs": []
    },
    {
      "cell_type": "code",
      "source": [
        "# Starting the optimization loop\n",
        "for iteration in range(max_iter):\n",
        "    # Calculating a linearly decreasing coefficient from 2 to 0\n",
        "    a = 2 * (1 - iteration / max_iter)\n",
        "\n",
        "    # Updating the position and fitness of each wolf\n",
        "    for i in range(n_wolves):\n",
        "        # Generating random vectors A and C for each of the best three wolves\n",
        "        A1 = a * (2 * np.random.random() - 1)\n",
        "        C1 = 2 * np.random.random()\n",
        "        A2 = a * (2 * np.random.random() - 1)\n",
        "        C2 = 2 * np.random.random()\n",
        "        A3 = a * (2 * np.random.random() - 1)\n",
        "        C3 = 2 * np.random.random()\n",
        "\n",
        "        # Calculating the position vectors for each of the best three wolves\n",
        "        X1 = alpha - A1 * np.abs(C1 * alpha - wolves[i])\n",
        "        X2 = beta - A2 * np.abs(C2 * beta - wolves[i])\n",
        "        X3 = gamma - A3 * np.abs(C3 * gamma - wolves[i])\n",
        "\n",
        "        # Calculating the new position vector by averaging the position vectors of the best three wolves\n",
        "        X_new = (X1 + X2 + X3) / 3\n",
        "\n",
        "        # Applying binarization operator to get a binary vector\n",
        "        X_new[X_new <= 0.5] = 0\n",
        "        X_new[X_new > 0.5] = 1\n",
        "\n",
        "        # Ensure at least one feature is selected\n",
        "        if np.sum(X_new) == 0:\n",
        "            random_feature = np.random.randint(0, len(X_new))\n",
        "            X_new[random_feature] = 1\n",
        "\n",
        "        # Calculating the new fitness value\n",
        "        f_new = objective_function(X, y, X_new)\n",
        "\n",
        "        # Updating the wolf position and fitness with the new values if they are better\n",
        "        if f_new > fitness[i]:\n",
        "            wolves[i] = X_new.copy()\n",
        "            fitness[i] = f_new\n",
        "\n",
        "    # Sorting wolves and fitness values based on fitness values\n",
        "    indices = np.argsort(-fitness)\n",
        "    wolves = wolves[indices]\n",
        "    fitness = fitness[indices]\n",
        "\n",
        "    # Updating the best three wolves as alpha, beta, and gamma\n",
        "    alpha = wolves[0].copy()\n",
        "    beta = wolves[1].copy()\n",
        "    gamma = wolves[2].copy()\n",
        "    alpha_score = fitness[0]\n",
        "    beta_score = fitness[1]\n",
        "    gamma_score = fitness[2]\n",
        "\n",
        "# Printing the final results\n",
        "print('The best subset of features is:', alpha)\n",
        "print('The best accuracy score is:', alpha_score)\n"
      ],
      "metadata": {
        "colab": {
          "base_uri": "https://localhost:8080/"
        },
        "outputId": "7dddd077-d2fe-4445-b4cc-340051548579",
        "id": "M49nQkregJTU"
      },
      "execution_count": 6,
      "outputs": [
        {
          "output_type": "stream",
          "name": "stdout",
          "text": [
            "The best subset of features is: [1. 1. 1. ... 0. 0. 0.]\n",
            "The best accuracy score is: -0.008409007345579424\n"
          ]
        }
      ]
    },
    {
      "cell_type": "markdown",
      "source": [
        "Step 4: Intrusion detection using optimized deep neural network\n"
      ],
      "metadata": {
        "id": "aLGcqNB81sqH"
      }
    },
    {
      "cell_type": "code",
      "source": [
        "# Importing libraries\n",
        "import numpy as np\n",
        "import pandas as pd\n",
        "import tensorflow as tf\n",
        "import matplotlib.pyplot as plt\n",
        "from sklearn.metrics import hamming_loss # Importing hamming_loss\n",
        "\n",
        "# Extracting features and labels from test dataset\n",
        "X_test = df_test.iloc[:, :-1].values\n",
        "y_test = df_test.iloc[:, -1].values\n",
        "\n",
        "# Encoding labels into integer values using LabelEncoder\n",
        "from sklearn.preprocessing import LabelEncoder\n",
        "le = LabelEncoder()\n",
        "y_test = le.fit_transform(y_test)\n",
        "\n",
        "# Converting labels into one-hot encoded vectors\n",
        "y_test = tf.one_hot(y_test, depth=n_classes)\n",
        "\n",
        "# Reshaping the best set of weights and biases into matrices\n",
        "weights_biases_size_list=[n_input*n_hidden_1,n_hidden_1,n_hidden_1*n_hidden_2,n_hidden_2,n_hidden_2*n_classes,n_classes]\n",
        "\n",
        "start=0;end=weights_biases_size_list[0]\n",
        "\n",
        "weights={}\n",
        "\n",
        "weights['h1']=tf.reshape(alpha[start:end],[n_input,n_hidden_1])\n",
        "\n",
        "start=end;end=start+weights_biases_size_list[1]\n",
        "\n",
        "biases={}\n",
        "\n",
        "biases['b1']=tf.reshape(alpha[start:end],[n_hidden_1])\n",
        "\n",
        "start=end;end=start+weights_biases_size_list[2]\n",
        "\n",
        "weights['h2']=tf.reshape(alpha[start:end],[n_hidden_1,n_hidden_2])\n",
        "\n",
        "start=end;end=start+weights_biases_size_list[3]\n",
        "\n",
        "biases['b2']=tf.reshape(alpha[start:end],[n_hidden_2])\n",
        "\n",
        "start=end;end=start+weights_biases_size_list[4]\n",
        "\n",
        "weights['out']=tf.reshape(alpha[start:end],[n_hidden_2,n_classes])\n",
        "\n",
        "start=end;end=start+weights_biases_size_list[5]\n",
        "\n",
        "biases['out']=tf.reshape(alpha[start:end],[n_classes])\n",
        "\n",
        "# Building the neural network model with the best weights and biases\n",
        "model = neural_network(X_test, weights, biases)\n",
        "\n",
        "# Predicting labels for test dataset\n",
        "y_pred = tf.argmax(model, axis=1).numpy()\n",
        "\n",
        "# Calculating performance metrics\n",
        "\n",
        "# Convert y_pred into one-hot encoded format\n",
        "y_pred_onehot = tf.one_hot(y_pred, depth=n_classes)\n",
        "\n",
        "# Calculating performance metrics\n",
        "hl = hamming_loss(y_test, y_pred_onehot)  # Calculating hamming loss\n",
        "print('The hamming loss is:', hl)\n"
      ],
      "metadata": {
        "colab": {
          "base_uri": "https://localhost:8080/"
        },
        "id": "WZlBIVF7DFEm",
        "outputId": "bd8ca57b-d40f-4788-8cea-bbb5e3c8b1b1"
      },
      "execution_count": 7,
      "outputs": [
        {
          "output_type": "stream",
          "name": "stdout",
          "text": [
            "The hamming loss is: 0.20777146912704045\n"
          ]
        }
      ]
    },
    {
      "cell_type": "code",
      "source": [
        "# Import necessary libraries\n",
        "import numpy as np\n",
        "import pandas as pd\n",
        "import tensorflow as tf\n",
        "import matplotlib.pyplot as plt\n",
        "from sklearn.metrics import accuracy_score, precision_score, recall_score, f1_score, confusion_matrix, roc_curve, auc\n",
        "\n",
        "\n",
        "# Convert one-hot encoded labels to numerical format\n",
        "y_test_numeric = np.argmax(y_test, axis=1)\n",
        "y_pred_numeric = y_pred\n",
        "\n",
        "# Calculate performance metrics\n",
        "acc = accuracy_score(y_test_numeric, y_pred_numeric)\n",
        "prec = precision_score(y_test_numeric, y_pred_numeric, average='macro')\n",
        "rec = recall_score(y_test_numeric, y_pred_numeric, average='macro')\n",
        "f1 = f1_score(y_test_numeric, y_pred_numeric, average='macro')\n",
        "cm = confusion_matrix(y_test_numeric, y_pred_numeric)\n",
        "fpr, tpr, thresholds = roc_curve(y_test_numeric, y_pred_numeric, pos_label=4)  # Assuming 'u2r' is the positive class\n",
        "roc_auc = auc(fpr, tpr)\n",
        "\n",
        "# Drawing performance metrics\n",
        "plt.figure(figsize=(10, 10))\n",
        "\n",
        "# Drawing confusion matrix\n",
        "plt.subplot(2, 2, 1)\n",
        "plt.title('Confusion matrix')\n",
        "plt.imshow(cm, cmap='Blues')\n",
        "plt.colorbar()\n",
        "plt.xticks(np.arange(n_classes), ['normal', 'dos', 'probe', 'r2l', 'u2r'])\n",
        "plt.yticks(np.arange(n_classes), ['normal', 'dos', 'probe', 'r2l', 'u2r'])\n",
        "plt.xlabel('Predicted label')\n",
        "plt.ylabel('True label')\n",
        "for i in range(n_classes):\n",
        "    for j in range(n_classes):\n",
        "        plt.text(j, i, cm[i][j], ha='center', va='center')\n",
        "\n",
        "# Drawing ROC curve\n",
        "plt.subplot(2, 2, 2)\n",
        "plt.title('ROC curve')\n",
        "plt.plot(fpr, tpr, color='darkorange', label='AUC = %0.4f' % roc_auc)\n",
        "plt.plot([0, 1], [0, 1], color='navy', linestyle='--')\n",
        "plt.xlim([0.0, 1.0])\n",
        "plt.ylim([0.0, 1.05])\n",
        "plt.xlabel('False Positive Rate')\n",
        "plt.ylabel('True Positive Rate')\n",
        "plt.legend(loc='lower right')\n",
        "\n",
        "# Drawing accuracy score\n",
        "plt.subplot(2, 2, 3)\n",
        "plt.title('Accuracy score')\n",
        "plt.bar(0, acc)\n",
        "plt.text(0, acc + 0.01, '%0.4f' % acc)\n",
        "plt.ylim([0.0, 1.0])\n",
        "plt.xticks([])\n",
        "\n",
        "# Drawing precision score\n",
        "plt.subplot(2, 2, 4)\n",
        "plt.title('Precision score')\n",
        "plt.bar(0, prec)\n",
        "plt.text(0, prec + 0.01, '%0.4f' % prec)\n",
        "plt.ylim([0.0, 1.0])\n",
        "plt.xticks([])\n",
        "\n",
        "plt.show()\n"
      ],
      "metadata": {
        "colab": {
          "base_uri": "https://localhost:8080/",
          "height": 893
        },
        "id": "2t5bkA6_R-JW",
        "outputId": "210f1944-5ba6-41e7-ae88-32d87c9e9992"
      },
      "execution_count": 11,
      "outputs": [
        {
          "output_type": "stream",
          "name": "stderr",
          "text": [
            "/usr/local/lib/python3.10/dist-packages/sklearn/metrics/_classification.py:1344: UndefinedMetricWarning: Precision is ill-defined and being set to 0.0 in labels with no predicted samples. Use `zero_division` parameter to control this behavior.\n",
            "  _warn_prf(average, modifier, msg_start, len(result))\n"
          ]
        },
        {
          "output_type": "display_data",
          "data": {
            "text/plain": [
              "<Figure size 1000x1000 with 5 Axes>"
            ],
            "image/png": "[encoded data removed]"
          },
          "metadata": {}
        }
      ]
    }
  ]
}